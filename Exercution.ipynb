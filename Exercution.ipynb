{
 "cells": [
  {
   "cell_type": "markdown",
   "metadata": {},
   "source": [
    "#### Course Schedule"
   ]
  },
  {
   "cell_type": "code",
   "execution_count": 5,
   "metadata": {},
   "outputs": [
    {
     "name": "stdout",
     "output_type": "stream",
     "text": [
      "True\n",
      "False\n"
     ]
    }
   ],
   "source": [
    "from typing import List\n",
    "class Solution:\n",
    "    def canFinish(self, numCourses: int, prerequisites: List[List[int]]) -> bool:\n",
    "        #map each course to the prereq list\n",
    "        preMap ={i:[] for i in range(numCourses)}\n",
    "        for crs, pre in prerequisites:\n",
    "          preMap[crs].append(pre)\n",
    "        \n",
    "        #visitSet = all course along the curr DFS path\n",
    "        visitSet=set()\n",
    "        def dfs(crs):\n",
    "          if crs in visitSet:\n",
    "            return False\n",
    "          if preMap[crs]==[]:\n",
    "            return True\n",
    "          visitSet.add(crs)\n",
    "          for pre in preMap[crs]:\n",
    "            if not dfs(pre): return False\n",
    "          visitSet.remove(crs)\n",
    "          preMap[crs]=[]\n",
    "          return True\n",
    "        \n",
    "        # 1 -> 2\n",
    "        # 3 -> 4\n",
    "        \n",
    "        for crs in range(numCourses):\n",
    "          if not dfs(crs):return False\n",
    "        return True\n",
    "\n",
    "s=Solution()\n",
    "prer1=[[0,1],[0,2],[1,3],[1,4],[3,4]]\n",
    "prer2=[[0,1],[1,2],[2,0]]\n",
    "\n",
    "print(s.canFinish(5,prer1))\n",
    "print(s.canFinish(3,prer2))\n"
   ]
  },
  {
   "cell_type": "markdown",
   "metadata": {},
   "source": [
    "#### Network Delay Time"
   ]
  },
  {
   "cell_type": "code",
   "execution_count": 7,
   "metadata": {},
   "outputs": [
    {
     "name": "stdout",
     "output_type": "stream",
     "text": [
      "2\n",
      "1\n",
      "-1\n"
     ]
    }
   ],
   "source": [
    "import collections\n",
    "import heapq\n",
    "from typing import List\n",
    "class Solution:\n",
    "    def networkDelayTime(self, times: List[List[int]], n: int, k: int) -> int:\n",
    "        #BFS\n",
    "        #Hash Map + Min Heap \n",
    "        edges = collections.defaultdict(list)\n",
    "        for u,v,w in times:\n",
    "          edges[u].append((v,w))\n",
    "        minHeap =[(0,k)]\n",
    "        visit = set()\n",
    "        #Leght to visit the node\n",
    "        t=0\n",
    "        while minHeap:\n",
    "          w1,n1=heapq.heappop(minHeap)\n",
    "          if n1 in visit:\n",
    "            continue\n",
    "          visit.add(n1)\n",
    "          t=max(1,w1)\n",
    "          for n2,w2 in edges[n1]:\n",
    "            if n2 not in visit:\n",
    "              heapq.heappush(minHeap, (w1+w2,n2))\n",
    "        return t if len(visit)==n else -1\n",
    "s=Solution()\n",
    "times1 = [[2,1,1],[2,3,1],[3,4,1]]\n",
    "n1 = 4 \n",
    "k1 = 2\n",
    "times2 = [[1,2,1]]\n",
    "n2 = 2\n",
    "k2 = 1\n",
    "times3 = [[1,2,1]] \n",
    "n3 = 2\n",
    "k3 = 2\n",
    "print(s.networkDelayTime(times1,n1,k1))\n",
    "print(s.networkDelayTime(times2,n2,k2))\n",
    "print(s.networkDelayTime(times3,n3,k3))"
   ]
  }
 ],
 "metadata": {
  "kernelspec": {
   "display_name": "Python 3.10.7 64-bit",
   "language": "python",
   "name": "python3"
  },
  "language_info": {
   "codemirror_mode": {
    "name": "ipython",
    "version": 3
   },
   "file_extension": ".py",
   "mimetype": "text/x-python",
   "name": "python",
   "nbconvert_exporter": "python",
   "pygments_lexer": "ipython3",
   "version": "3.10.7"
  },
  "orig_nbformat": 4,
  "vscode": {
   "interpreter": {
    "hash": "6bba7ad6fc9afbb17a33197c0438130850015aba75982ac77e342f4df6c21110"
   }
  }
 },
 "nbformat": 4,
 "nbformat_minor": 2
}
